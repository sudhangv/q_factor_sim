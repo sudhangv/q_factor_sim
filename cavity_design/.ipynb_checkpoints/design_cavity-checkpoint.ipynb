{
 "cells": [
  {
   "cell_type": "code",
   "execution_count": 2,
   "metadata": {},
   "outputs": [],
   "source": [
    "import meep as mp\n",
    "import numpy as np\n",
    "from meep import mpb\n",
    "import matplotlib.pyplot as plt\n",
    "from lattice import *\n",
    "from utilities import *\n",
    "\n",
    "del_w, del_a, del_hy, del_hx = 0.05, 0.001, 0.025, 0.025\n",
    "w_max ,a_max = 0.7, 0.45\n",
    "w_min, a_min, hy_min, hx_min = 0.65, 0.25, 0.1, 0.05"
   ]
  },
  {
   "cell_type": "code",
   "execution_count": 39,
   "metadata": {},
   "outputs": [],
   "source": [
    "#hx = 0.25, hy = 0.4, a = 0.4, w = 0.7, gamma = 0.14044459663320077\n",
    "#hx = 0.3, hy = 0.5, a = 0.449, w = 0.7, gamma = 0.1697\n",
    "#hx = 0.3, hy = 0.425, a = 0.449, w = 0.65, gamma = 0.1644\n",
    "number_of_tapered_holes = 10\n",
    "hx = 0.143 \n",
    "hy = 0.315\n",
    "w = 0.65\n",
    "a_center = 0.313\n",
    "a_mirror = 0.361\n",
    "lattice = OneDLattice(Lx = 20, filename = \"sweep_data(1).hdf5\")\n",
    "z = lattice.polynomial_elliptical_hole_taper(number_of_tapered_holes = number_of_tapered_holes, \n",
    "                                       hx = hx, \n",
    "                                       hy = hy, \n",
    "                                       w = w, \n",
    "                                       a_center = a_center, \n",
    "                                       a_mirror = a_mirror)\n",
    "lattice.apply_poly_spacing()"
   ]
  },
  {
   "cell_type": "code",
   "execution_count": null,
   "metadata": {
    "scrolled": true
   },
   "outputs": [],
   "source": [
    "lattice.poly_spacing"
   ]
  },
  {
   "cell_type": "code",
   "execution_count": null,
   "metadata": {
    "scrolled": false
   },
   "outputs": [],
   "source": [
    "#------------------- check if spacings and coordinates are correct --------------------#\n",
    "for i in range(19):\n",
    "    print( lattice.poly_spacing[i+1] - 2 * (lattice.coordinates[i + 1][0] - lattice.coordinates[i][0]) + lattice.poly_spacing[i])\n"
   ]
  },
  {
   "cell_type": "code",
   "execution_count": 35,
   "metadata": {},
   "outputs": [],
   "source": [
    "#------------------ Pow Spacing Set - up ---------------------#\n",
    "N_taper = 10\n",
    "hx = 0.143\n",
    "hy = 0.315\n",
    "w = 0.65\n",
    "a_center = 0.309\n",
    "a_mirror = 0.350\n",
    "Lx = 20\n",
    "h = 0.23\n",
    "lattice = OneDLattice(Lx = Lx)\n",
    "spacings = lattice.pow_degree_a_taper(N_taper, hx, hy , w , a_center, a_mirror)\n",
    "lattice.apply_pow_spacing()"
   ]
  },
  {
   "cell_type": "code",
   "execution_count": null,
   "metadata": {
    "scrolled": false
   },
   "outputs": [],
   "source": [
    "lattice.pow_spacing"
   ]
  },
  {
   "cell_type": "code",
   "execution_count": null,
   "metadata": {
    "scrolled": true
   },
   "outputs": [],
   "source": [
    "#------------------ Normal Spacing Set - up ---------------------#\n",
    "lattice = OneDLattice(Lx = 20)\n",
    "lattice.normal_spacing(0.303, 0.143, 0.315)\n",
    "lattice.coordinates"
   ]
  },
  {
   "cell_type": "code",
   "execution_count": null,
   "metadata": {
    "scrolled": false
   },
   "outputs": [],
   "source": [
    "#----------- To check lower band edges of mirror segments vs. w_target ----------#\n",
    "\n",
    "band_upper = []\n",
    "band_lower = []\n",
    "target_f = []\n",
    "#a_range = lattice.poly_spacing\n",
    "a_range = lattice.pow_spacing\n",
    "for a in a_range:\n",
    "    \n",
    "    freq = np.array(get_freqs(hx , hy, a, w, h))\n",
    "    freq[0] = convert_freq_to_Thz(freq[0], a)\n",
    "    freq[1] = convert_freq_to_Thz(freq[1], a)\n",
    "\n",
    "    freq_target = convert_freq_to_Thz(1/1.54) * 1.01 \n",
    "    \n",
    "    band_lower.append(freq[0])\n",
    "    band_upper.append(freq[1])\n",
    "    target_f.append(freq_target)\n",
    "    \n",
    "plt.xticks(np.round(np.linspace(a_range[0], a_range[-1], 7), 3))\n",
    "plt.title(\"hx = {}. hy = {}, w = {}, h = {}\".format(hx, hy, w, h))\n",
    "plt.xlabel(\"a\")\n",
    "plt.ylabel(\"Frequency in Thz\")\n",
    "plt.plot(a_range,target_f, 'r', label = \"target_f\" )\n",
    "plt.plot(a_range,band_lower, 'bx', label = \"band_lower\" )\n",
    "plt.plot(a_range,band_upper, 'bx', label = \"band_upper\" )\n",
    "plt.grid()\n",
    "plt.legend()"
   ]
  },
  {
   "cell_type": "code",
   "execution_count": null,
   "metadata": {
    "scrolled": false
   },
   "outputs": [],
   "source": [
    "#------- Plot mirror strength for the range a_range -------#\n",
    "\n",
    "mirror_strength = []\n",
    "#a_range = lattice.poly_spacing\n",
    "a_range = lattice.pow_spacing\n",
    "\n",
    "for a in a_range: \n",
    "     freq = get_freqs(hx, hy, a, w, h)\n",
    "     mirror_strength.append(get_gamma(freq, a))\n",
    "\n",
    "x_range = np.array(range(len(a_range))) + 1\n",
    "\n",
    "plt.xticks(x_range)\n",
    "plt.title(\"hx = {}. hy = {}, w = {} , h = {}, a = ({},{})\".format(hx, hy, w, h , a_center, a_mirror), pad = 10)\n",
    "plt.xlabel(\"Mirror Segment Number\", labelpad = 10)\n",
    "plt.ylabel(\"Mirror Strength\", labelpad = 10)\n",
    "plt.grid()\n",
    "plt.plot(x_range, mirror_strength, 'x')\n",
    "#plt.plot( a_range, mirror_strength, 'x')"
   ]
  },
  {
   "cell_type": "code",
   "execution_count": null,
   "metadata": {},
   "outputs": [],
   "source": [
    "#----------------- Load and clean data ---------------------#\n",
    "\n",
    "hf = h5py.File('sweep_data.hdf5', 'r')\n",
    "data = np.array( hf.get(\"data\"))\n",
    "data = data\n",
    "hf.close()\n",
    "\n",
    "x = np.where(data == - 1)\n",
    "for i in range(len(x[0])):\n",
    "    data[x[0][i], x[1][i], x[2][i], x[3][i] ] = 0    # data cleaning "
   ]
  },
  {
   "cell_type": "code",
   "execution_count": null,
   "metadata": {},
   "outputs": [],
   "source": [
    "convert_freq_to_Thz( 1/1.54) * 1.01"
   ]
  },
  {
   "cell_type": "code",
   "execution_count": null,
   "metadata": {
    "scrolled": false
   },
   "outputs": [],
   "source": [
    "a_range = np.linspace(0.34 , 0.4, 20)\n",
    "mirror_str = []\n",
    "for a in a_range:\n",
    "    mirror_str.append(get_gamma(get_freqs(hx = 0.143, hy = 0.315, a = a, wy = 0.65, h = 0.25), a = a))\n",
    "\n",
    "plt.plot(a_range, mirror_str, 'bx')"
   ]
  },
  {
   "cell_type": "code",
   "execution_count": null,
   "metadata": {},
   "outputs": [],
   "source": [
    "hx = 0.25\n",
    "hy = 0.45\n",
    "a = 0.4\n",
    "w = 0.7\n",
    "\n",
    "# mirror_str = []\n",
    "# for a in np.arange(0.4, 0.401, 0.001):\n",
    "#     mirror_str.append(get_gamma(get_freqs(hx, hy, a , w), a))\n",
    "\n",
    "get_gamma(get_freqs(hx, hy, a , w), a)"
   ]
  },
  {
   "cell_type": "code",
   "execution_count": null,
   "metadata": {},
   "outputs": [],
   "source": [
    "def a_normal_cavity(geom = None, n_segments=20, waveguide_parameters= None, substrate_parameters=None):    \n",
    "    \n",
    "    if geom is None:\n",
    "        geom = []\n",
    "\n",
    "    if waveguide_parameters is None:\n",
    "        waveguide_parameters = {}\n",
    "\n",
    "    if substrate_parameters is None:\n",
    "        substrate_parameters = {}\n",
    "\n",
    "    geom = add_waveguide_1d(geom=geom)\n",
    "\n",
    "    geom, _ = _a_tapering(geom=geom, n_segments=n_segments)\n",
    "\n",
    "    # geom = add_substrate(geom=geom, **substrate_parameters)                                                           \n",
    "    return geom"
   ]
  },
  {
   "cell_type": "code",
   "execution_count": null,
   "metadata": {},
   "outputs": [],
   "source": [
    "def _a_normal_tapering(geom=None, n_segments=20, material_holes=mp.vacuum):\n",
    "    \n",
    "    if geom is None:\n",
    "        geom = []\n",
    "    material_holes = index_to_material(material_holes)\n",
    "\n",
    "    _cavity = OneDLattice(Lx = n_segments)\n",
    "    _cavity.normal_spacing(a = 0.303, hx = 0.143, hy = 0.315)\n",
    "    \n",
    "    for x, y, z, hx, hy in _cavity.coordinates:\n",
    "        # holes are completely filled with tuning material:\n",
    "        geom.append(mp.Ellipsoid(material=material_holes,\n",
    "                                         center=mp.Vector3(x, y, z),\n",
    "                                         size=mp.Vector3(hx, hy, mp.inf)\n",
    "        geom.append(mp.Ellipsoid(material=material_holes,\n",
    "                                         center=mp.Vector3(-x, y, z),\n",
    "                                         size=mp.Vector3(hx, hy, mp.inf)))\n",
    "                                 \n",
    "    return geom, length"
   ]
  }
 ],
 "metadata": {
  "kernelspec": {
   "display_name": "Python 3",
   "language": "python",
   "name": "python3"
  },
  "language_info": {
   "codemirror_mode": {
    "name": "ipython",
    "version": 3
   },
   "file_extension": ".py",
   "mimetype": "text/x-python",
   "name": "python",
   "nbconvert_exporter": "python",
   "pygments_lexer": "ipython3",
   "version": "3.7.8"
  }
 },
 "nbformat": 4,
 "nbformat_minor": 4
}
