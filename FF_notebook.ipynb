{
 "cells": [
  {
   "cell_type": "code",
   "execution_count": 8,
   "metadata": {},
   "outputs": [],
   "source": [
    "import meep as mp\n",
    "import numpy as np\n",
    "import warnings\n",
    "import os\n",
    "import h5py\n",
    "import math\n",
    "\n",
    "import matplotlib.pyplot as plt\n",
    "plt.style.use(\"seaborn\")\n",
    "import seaborn as sb\n",
    "#%matplotlib notebook\n",
    "\n",
    "\n",
    "from sweep_util import *"
   ]
  },
  {
   "cell_type": "markdown",
   "metadata": {},
   "source": [
    "### Manually calculate FF"
   ]
  },
  {
   "cell_type": "code",
   "execution_count": 27,
   "metadata": {},
   "outputs": [
    {
     "data": {
      "text/plain": [
       "0.45662683918456304"
      ]
     },
     "execution_count": 27,
     "metadata": {},
     "output_type": "execute_result"
    }
   ],
   "source": [
    "hx = 0.3\n",
    "hy = 0.525\n",
    "a = 0.387\n",
    "w = 0.7\n",
    "\n",
    "(math.pi * hx * hy ) / ( 4 * a * w)"
   ]
  },
  {
   "cell_type": "markdown",
   "metadata": {},
   "source": [
    "# To do\n",
    "- Check filling fraction and mirror strength relationships\n",
    "- Find geometries with lower filling fractions and see how their Q behaves"
   ]
  },
  {
   "cell_type": "markdown",
   "metadata": {},
   "source": [
    "### Create Filling Fraction Array ###"
   ]
  },
  {
   "cell_type": "code",
   "execution_count": 9,
   "metadata": {},
   "outputs": [],
   "source": [
    "hf = h5py.File('bandstructure_data/perturb_sub_230_yO.hdf5', 'r')\n",
    "gamma = np.array( hf.get(\"gamma\"))\n",
    "freq_lower = np.array( hf.get(\"freq_lower\"))\n",
    "freq_upper = np.array( hf.get(\"freq_upper\"))\n",
    "hf.close()\n",
    "\n",
    "num_x = gamma.shape[3]\n",
    "num_y = gamma.shape[2]\n",
    "\n",
    "hx_min , hy_min = 0.125, 0.2\n",
    "hx_max , hy_max = hx_min + (num_x - 1) * 0.025, hy_min + (num_y - 1) * 0.025\n",
    "\n",
    "ff = np.copy(gamma[:,:,:,:])\n",
    "for i in range(ff.shape[0]):\n",
    "    for j in range(ff.shape[1]):\n",
    "        for k in range(ff.shape[2]):\n",
    "            for l in range(ff.shape[3]):\n",
    "                hx = get_value_from_index(index = l, param = 'hx', hx_min = hx_min, hy_min = hy_min)\n",
    "                hy = get_value_from_index(index = k, param = 'hy', hx_min = hx_min, hy_min = hy_min)\n",
    "                a = get_value_from_index(index = j, param = 'a', hx_min = hx_min, hy_min = hy_min)\n",
    "                w = get_value_from_index(index = i, param = 'w', hx_min = hx_min, hy_min = hy_min)\n",
    "                \n",
    "                ff[i,j, k, l] = (math.pi * hx * hy ) / ( 4 * a * w)"
   ]
  },
  {
   "cell_type": "code",
   "execution_count": 10,
   "metadata": {},
   "outputs": [
    {
     "name": "stdout",
     "output_type": "stream",
     "text": [
      "225.63086\n",
      "(2, 201, 17, 11)\n"
     ]
    }
   ],
   "source": [
    "print(freq_lower[0,0,0,0])\n",
    "print(gamma.shape)"
   ]
  },
  {
   "cell_type": "markdown",
   "metadata": {},
   "source": [
    "# Find out $a_{cen}$ "
   ]
  },
  {
   "cell_type": "code",
   "execution_count": null,
   "metadata": {
    "scrolled": true
   },
   "outputs": [],
   "source": [
    "a_cen , res_freq = get_a_cen(target_f_Thz = 196.75, hx = 0.275, hy = 0.525, w = 0.7, \n",
    "          freq_lower_data= freq_lower, freq_upper_data= freq_upper)  # FRAUD\n",
    "\n",
    "print(\"a_cen = {}\".format(a_cen))\n",
    "print(\"res_freq = {}\".format(res_freq))\n"
   ]
  },
  {
   "cell_type": "code",
   "execution_count": null,
   "metadata": {
    "scrolled": true
   },
   "outputs": [],
   "source": [
    "print(get_index(hx = 0.3, hy = 0.3, a = 0.424, w = 0.7, \n",
    "          hx_min = hx_min, hy_min = hy_min))\n",
    "print(ff[(1, 89, 6, 2)])\n",
    "print(gamma[(1, 130, 3, 6)])\n",
    "print(freq_lower[1,90, 6,2])\n",
    "print(freq_upper[1,89, 6,2])"
   ]
  },
  {
   "cell_type": "code",
   "execution_count": 25,
   "metadata": {},
   "outputs": [
    {
     "name": "stdout",
     "output_type": "stream",
     "text": [
      "hx : 0.30000000000000004\n",
      "hy : 0.525\n",
      "a : 0.387\n"
     ]
    }
   ],
   "source": [
    "print(\"hx : \" + str(get_value_from_index(index = 7, param = 'hx', hx_min = hx_min, hy_min = hy_min)))\n",
    "print(\"hy : \" + str(get_value_from_index(index = 13, param = 'hy', hx_min = hx_min, hy_min = hy_min)))\n",
    "print(\"a : \" + str(get_value_from_index(index = 137, param = 'a', hx_min = hx_min, hy_min = hy_min)))"
   ]
  },
  {
   "cell_type": "code",
   "execution_count": null,
   "metadata": {},
   "outputs": [],
   "source": [
    "get_gamma_from_Thz(get_freq_Thz(hx = 0.275, hy = 0.525, a = 0.45, w = 0.7, h = 0.25, substrate = True, mode = \"yO\"), \n",
    "                   check_freq= 196.75324675324677) "
   ]
  },
  {
   "cell_type": "markdown",
   "metadata": {},
   "source": [
    "### Plot gamma vs 1-parameter ###"
   ]
  },
  {
   "cell_type": "code",
   "execution_count": 19,
   "metadata": {
    "scrolled": true
   },
   "outputs": [
    {
     "data": {
      "text/plain": [
       "[<matplotlib.lines.Line2D at 0x7fa6da521e10>]"
      ]
     },
     "execution_count": 19,
     "metadata": {},
     "output_type": "execute_result"
    },
    {
     "data": {
      "image/png": "[encoded data removed]",
      "text/plain": [
       "<Figure size 576x396 with 1 Axes>"
      ]
     },
     "metadata": {},
     "output_type": "display_data"
    }
   ],
   "source": [
    "# plt.plot(np.linspace(0.125, 0.45, 201), gamma[1, : , 13, 6])\n",
    "plt.plot(gamma[1,135:,13,7], 'ro-')"
   ]
  },
  {
   "cell_type": "code",
   "execution_count": null,
   "metadata": {},
   "outputs": [],
   "source": [
    "print(gamma[1,115,13,6])\n",
    "print(0.25 + 0.001 * 114)"
   ]
  },
  {
   "cell_type": "code",
   "execution_count": 21,
   "metadata": {},
   "outputs": [
    {
     "name": "stdout",
     "output_type": "stream",
     "text": [
      "0.3926991\n"
     ]
    }
   ],
   "source": [
    "print(ff[1, 200, 13, 7])"
   ]
  },
  {
   "cell_type": "markdown",
   "metadata": {},
   "source": [
    "## Find out parametric dependence of $\\gamma$ "
   ]
  },
  {
   "cell_type": "code",
   "execution_count": 15,
   "metadata": {},
   "outputs": [
    {
     "name": "stdout",
     "output_type": "stream",
     "text": [
      "Max Gamma: 0.1635\n",
      "Indices for max gamma: (1, 200, 13, 7)\n"
     ]
    }
   ],
   "source": [
    "from numpy import unravel_index\n",
    "indices_max = unravel_index(gamma.argmax(), gamma.shape)\n",
    "print(\"Max Gamma: \" + str(gamma[indices_max]))\n",
    "print(\"Indices for max gamma: \" + str(indices_max))"
   ]
  },
  {
   "cell_type": "code",
   "execution_count": 14,
   "metadata": {},
   "outputs": [
    {
     "name": "stdout",
     "output_type": "stream",
     "text": [
      "0.275\n",
      "0.525\n"
     ]
    }
   ],
   "source": [
    "print(get_value_from_index(index = 6, param = 'hx', hx_min = hx_min, hy_min = hy_min))\n",
    "print(get_value_from_index(index = 13, param = 'hy', hx_min = hx_min, hy_min = hy_min))\n"
   ]
  },
  {
   "cell_type": "markdown",
   "metadata": {},
   "source": [
    "### Check $hx_{min}$ and $hy_{min}$ ###"
   ]
  },
  {
   "cell_type": "code",
   "execution_count": null,
   "metadata": {
    "scrolled": true
   },
   "outputs": [],
   "source": [
    "get_freq_Thz(hx = 0.125, hy = 0.2, a = 0.25, w = 0.65, h = 0.25, substrate = True, mode = \"yO\")"
   ]
  },
  {
   "cell_type": "code",
   "execution_count": null,
   "metadata": {},
   "outputs": [],
   "source": [
    "print(freq_lower[0,0,0,0])\n",
    "print(freq_upper[get_index(hx = 0.125, hy = 0.2, a = 0.25, w = 0.65, hx_min = hx_min, hy_min = hy_min)])\n",
    "print(get_value_from_index(index = 0, param = 'hx', hx_min = hx_min, hy_min = hy_min))"
   ]
  },
  {
   "cell_type": "markdown",
   "metadata": {},
   "source": [
    "## Plot HEATMAPS ##"
   ]
  },
  {
   "cell_type": "code",
   "execution_count": null,
   "metadata": {
    "scrolled": true
   },
   "outputs": [],
   "source": [
    "x = gamma\n",
    "plt.gcf().dpi = 100\n",
    "plt.gcf().set_size_inches(8,4)\n",
    "\n",
    "x_ticks = np.round(np.linspace(start = hx_min, stop= hx_max, endpoint= True, num = num_x), 3)\n",
    "y_ticks = np.round(np.linspace(start = hy_min, stop= hy_max , endpoint= True, num = num_y), 3)\n",
    "\n",
    "#plt.title(r\"$\\frac{Gamma}{FF}$\", pad = 20, fontdict = {\"size\" : 20})\n",
    "plt.title(r\"$\\gamma$\", pad = 20, fontdict = {\"size\" : 20})\n",
    "\n",
    "# sb.heatmap(x[1, 150,:,:].T, annot= True, ax = plt.gca(), cbar= False, \n",
    "#           xticklabels= y_ticks,  yticklabels= x_ticks)\n",
    "\n",
    "# sb.heatmap(data = x[1, 199 , : , :].T, annot= ff[1, 200,:,:].T , ax = plt.gca(), cbar= False)\n",
    "\n",
    "sb.heatmap(data = x[1, 199 , : , :].T, annot= True , ax = plt.gca(), cbar= False)\n",
    "plt.show()"
   ]
  },
  {
   "cell_type": "code",
   "execution_count": null,
   "metadata": {},
   "outputs": [],
   "source": [
    "ff.shape"
   ]
  },
  {
   "cell_type": "code",
   "execution_count": null,
   "metadata": {
    "scrolled": true
   },
   "outputs": [],
   "source": [
    "a_max = np.argmax(gamma[1, : , :, :] , axis = 0)\n",
    "gamma_max = np.max(gamma[1, :, :, :], axis = 0)\n",
    "print(a_max)\n",
    "print(gamma_max)\n",
    "print(gamma[1, 99, 6 ,2])\n",
    "print(ff[1, 99, 6 ,2])\n",
    "\n",
    "0.25 + 0.147"
   ]
  },
  {
   "cell_type": "code",
   "execution_count": null,
   "metadata": {},
   "outputs": [],
   "source": [
    "print(gamma.shape)\n",
    "print(hx_max)"
   ]
  },
  {
   "cell_type": "code",
   "execution_count": null,
   "metadata": {},
   "outputs": [],
   "source": [
    "plt.rcParams[\"font.weight\"] = \"normal\"\n",
    "label_font_dict = {\"fontsize\" : 15, 'weight': 'bold'}\n",
    "title_font_dict = {'fontsize' : 15, 'weight': 'bold'}"
   ]
  },
  {
   "cell_type": "code",
   "execution_count": null,
   "metadata": {
    "scrolled": false
   },
   "outputs": [],
   "source": [
    "fig , (ax1,ax2) = plt.subplots(nrows = 1, ncols = 2, figsize = (28,8), dpi = 50)\n",
    "\n",
    "ax_1_x_ticks = np.round(np.linspace(start = hx_min, stop= hx_max, endpoint= True, num = num_x), 3)\n",
    "ax_1_y_ticks = np.round(np.linspace(start = hy_min, stop= hy_max , endpoint= True, num = num_y), 3)\n",
    "ax_2_x_ticks = np.round(np.linspace(start = hx_min, stop= hx_max , endpoint= True, num = num_x), 3)\n",
    "ax_2_y_ticks = np.round(np.linspace(start = hy_min, stop= hy_max , endpoint= True, num = num_y), 3)\n",
    "\n",
    "sb.heatmap(ff[1,199,:,:].T, annot= True, ax = ax1, cbar = False, \n",
    "           xticklabels= ax_1_y_ticks,  yticklabels= ax_1_x_ticks)\n",
    "\n",
    "sb.heatmap(gamma[1,199,:,:].T, annot= True, ax = ax2, cbar = False,\n",
    "           xticklabels= ax_2_y_ticks,  yticklabels= ax_2_x_ticks)\n",
    "\n",
    "ax1.set_title(\"Filling Fraction\", fontdict= title_font_dict, pad = 10)\n",
    "ax2.set_title(\"Mirror Strength\", fontdict= title_font_dict, pad = 10)\n",
    "\n",
    "ax1.set_xlabel(\"$h_y$\", fontdict= label_font_dict); ax1.set_ylabel(\"$h_x$\", fontdict= label_font_dict)\n",
    "ax2.set_xlabel(\"$h_y$\", fontdict= label_font_dict); ax2.set_ylabel(\"$h_x$\", fontdict= label_font_dict)\n",
    "\n",
    "fig.show()"
   ]
  },
  {
   "cell_type": "code",
   "execution_count": null,
   "metadata": {
    "scrolled": false
   },
   "outputs": [],
   "source": [
    "from mpl_toolkits.mplot3d import Axes3D\n",
    "from matplotlib import cm\n",
    "#import matplotlib.pyplot as plt\n",
    "import numpy as np\n",
    "\n",
    "fig = plt.figure()\n",
    "ax = fig.gca(projection='3d')\n",
    "\n",
    "# as plot_surface needs 2D arrays as input\n",
    "hx_index = range(num_x)\n",
    "hy_index = range(num_y)\n",
    "a_index = range(201)\n",
    "\n",
    "#c = ff[1, :, :, :]\n",
    "c = np.array([ff[1, a, hy, hx] for hx in hx_index for hy in hy_index for a in a_index])\n",
    "X, Y, Z = np.meshgrid(hx_index, hy_index, a_index, indexing = 'ij')\n",
    "\n",
    "\n",
    "# data_value shall be represented by color\n",
    "\n",
    "# map the data to rgba values from a colormap\n",
    "#colors = cm.ScalarMappable(cmap = \"viridis\").to_rgba(data_value)\n",
    "\n",
    "hx_ticks = np.arange(start = 0, stop = num_x - 1 , step = 2)\n",
    "hy_ticks = np.arange(start = 0, stop = num_y - 1, step = 4)\n",
    "a_ticks = np.arange(start = 0, stop = 200, step = 40)\n",
    "\n",
    "hx_range = np.round(hx_min + hx_ticks * 0.025,3)\n",
    "hy_range = np.round(hy_min + hy_ticks * 0.025,3)\n",
    "a_range = np.round(0.25 + a_ticks * 0.001,3)\n",
    "\n",
    "ax.set_xlabel(r'$h_x$', fontdict = {'fontweight': 'bold'})\n",
    "ax.set_ylabel(r'$h_y$', fontdict = {'fontweight': 'bold'})\n",
    "ax.set_zlabel(r'$a$', fontdict = {'fontweight': 'bold'})\n",
    "\n",
    "ax.set_xticks(ticks = hx_ticks)\n",
    "ax.set_yticks(ticks = hy_ticks)\n",
    "ax.set_zticks(ticks = a_ticks)\n",
    "\n",
    "ax.set_xticklabels(labels = hx_range)\n",
    "ax.set_yticklabels(labels = hy_range)\n",
    "ax.set_zticklabels(labels = a_range)\n",
    "#colors = cm.ScalarMappable(cmap = \"hot\").to_rgba(c)\n",
    "\n",
    "#img = ax.scatter(X, Y, Z, c = colors)\n",
    "img = ax.scatter(X, Y, Z, c = c, cmap=plt.hot())\n",
    "\n",
    "fig.colorbar(img, pad = 0.2)\n",
    "plt.show()\n",
    "# plot_surface with points X,Y,Z and data_value as colors\n",
    "# surf = ax.plot_surface(X, Y, Z, rstride=1, cstride=1, facecolors=colors,\n",
    "#                        linewidth=0, antialiased=True)\n",
    "plt.title('FF')\n",
    "plt.show()"
   ]
  },
  {
   "cell_type": "code",
   "execution_count": null,
   "metadata": {},
   "outputs": [],
   "source": [
    "\n",
    "hx_index = range(num_x)\n",
    "hy_index = range(num_y)\n",
    "check = np.copy(gamma[1, :, :, : ])\n",
    "Z = np.argmax(check, axis = 0)\n",
    "X, Y = np.meshgrid(hx_index, hy_index)\n",
    "ax = fig.gca(projection='3d')\n",
    "ax.scatter(X, Y, Z, c = 'white', depthshade = True, s = 5, marker = 'o', edgecolors = 'b')\n",
    "plt.show()"
   ]
  },
  {
   "cell_type": "code",
   "execution_count": null,
   "metadata": {},
   "outputs": [],
   "source": [
    "c = np.array([gamma[1, a, hy, hx] for hx in hx_index for hy in hy_index for a in a_index])\n",
    "\n",
    "fig2 = plt.figure()\n",
    "ax = fig.gca(projection='3d')\n",
    "fig2.colorbar(img)\n",
    "\n",
    "img = ax.scatter(X, Y, Z, c = c, cmap=plt.hot())\n",
    "plt.show()\n",
    "# plot_surface with points X,Y,Z and data_value as colors\n",
    "# surf = ax.plot_surface(X, Y, Z, rstride=1, cstride=1, facecolors=colors,\n",
    "#                        linewidth=0, antialiased=True)\n",
    "\n",
    "plt.show()"
   ]
  },
  {
   "cell_type": "code",
   "execution_count": null,
   "metadata": {},
   "outputs": [],
   "source": [
    "from mpl_toolkits.mplot3d import Axes3D\n",
    "from matplotlib import cm\n",
    "import numpy as np\n",
    "\n",
    "fig = plt.figure()\n",
    "ax = fig.gca(projection='3d')\n",
    "\n",
    "hx_index = range(2)\n",
    "hy_index = range(2)\n",
    "a_index = range(2)\n",
    "\n",
    "X, Y, Z = np.meshgrid(hx_index, hy_index, a_index, indexing = 'ij')\n",
    "\n",
    "c = [1,2,3,4,5,6,7, 8]\n",
    "ax.set_xlabel('hx')\n",
    "ax.set_ylabel('hy')\n",
    "ax.set_zlabel('a')\n",
    "\n",
    "img = ax.scatter(X, Y, Z, c = c, cmap=plt.hot())\n",
    "\n",
    "#fig.colorbar(img)\n",
    "plt.show()\n",
    "\n"
   ]
  },
  {
   "cell_type": "code",
   "execution_count": null,
   "metadata": {},
   "outputs": [],
   "source": [
    "[(x, y, z) for x in X for y in  Y for z in  Z]"
   ]
  },
  {
   "cell_type": "code",
   "execution_count": null,
   "metadata": {},
   "outputs": [],
   "source": [
    "Z\n"
   ]
  },
  {
   "cell_type": "code",
   "execution_count": null,
   "metadata": {},
   "outputs": [],
   "source": [
    "0.15 + np.arange(10) * 0.025"
   ]
  },
  {
   "cell_type": "code",
   "execution_count": null,
   "metadata": {},
   "outputs": [],
   "source": []
  }
 ],
 "metadata": {
  "kernelspec": {
   "display_name": "Python 3",
   "language": "python",
   "name": "python3"
  },
  "language_info": {
   "codemirror_mode": {
    "name": "ipython",
    "version": 3
   },
   "file_extension": ".py",
   "mimetype": "text/x-python",
   "name": "python",
   "nbconvert_exporter": "python",
   "pygments_lexer": "ipython3",
   "version": "3.7.8"
  }
 },
 "nbformat": 4,
 "nbformat_minor": 4
}
