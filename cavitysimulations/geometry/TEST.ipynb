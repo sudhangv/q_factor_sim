{
 "cells": [
  {
   "cell_type": "code",
   "execution_count": 1,
   "metadata": {},
   "outputs": [],
   "source": [
    "import meep as mp\n",
    "import numpy as np\n",
    "import warnings\n",
    "import os\n",
    "import h5py\n",
    "\n",
    "from lattice import OneDLattice\n",
    "#from waveguide import *\n",
    "from utilities import *\n",
    "from sweep_util import *"
   ]
  },
  {
   "cell_type": "code",
   "execution_count": null,
   "metadata": {},
   "outputs": [],
   "source": [
    "perturb_range = 0.04         # edges of the wavelength (in um) window will be (target_lambda +- perturb_range) \n",
    "tol_Thz = 3                  # tolerance in Thz to select the perturbed segment parameters\n",
    "\n",
    "target_wvl = 1.54            # vaccum wavelength ( in um ) of the unperturbed cavity design\n",
    "target_f = 1/target_wvl\n",
    "target_f_Thz =  convert_freq_to_Thz(target_f)\n",
    "\n",
    "f_perturb_lower = 1 / (target_wvl + perturb_range )           # target_f - perturbation\n",
    "f_perturb_upper = 1 / (target_wvl - perturb_range )           # target_f + perturbation\n",
    "\n",
    "f_perturb_lower_Thz =  convert_freq_to_Thz(f_perturb_lower)\n",
    "f_perturb_upper_Thz =  convert_freq_to_Thz(f_perturb_upper)"
   ]
  },
  {
   "cell_type": "code",
   "execution_count": null,
   "metadata": {},
   "outputs": [],
   "source": [
    "target_f_Thz"
   ]
  },
  {
   "cell_type": "code",
   "execution_count": null,
   "metadata": {},
   "outputs": [],
   "source": [
    "hy_range = np.arange(0.3, 0.37, 0.004)\n",
    "freq = []\n",
    "for hx in hx_range:\n",
    "    freq.append(get_freq_Thz(hx = 0.4, hy = 0.520, a = 0.446, w = 0.7, h = 0.2, substrate = True, mode = \"yO\"))"
   ]
  },
  {
   "cell_type": "code",
   "execution_count": null,
   "metadata": {},
   "outputs": [],
   "source": [
    "plt.plot(hx_range, freq, 'x')\n",
    "plt.title(\"hx_range = np.arange(0.3, 0.4, 0.02)\")\n",
    "plt.plot()"
   ]
  },
  {
   "cell_type": "code",
   "execution_count": 19,
   "metadata": {},
   "outputs": [
    {
     "name": "stdout",
     "output_type": "stream",
     "text": [
      " h = 0.19, SUBSTRATE = True, mode = zEyO\n",
      "Initializing eigensolver data\n",
      "Computing 2 bands with 1e-07 tolerance\n",
      "Working in 3 dimensions.\n",
      "Grid size is 20 x 80 x 80.\n",
      "Solving for 2 bands at a time.\n",
      "Creating Maxwell data...\n",
      "Mesh size is 3.\n",
      "Lattice vectors:\n",
      "     (1, 0, 0)\n",
      "     (0, 4, 0)\n",
      "     (0, 0, 4)\n",
      "Cell volume = 16\n",
      "Reciprocal lattice vectors (/ 2 pi):\n",
      "     (1, -0, 0)\n",
      "     (-0, 0.25, -0)\n",
      "     (0, -0, 0.25)\n",
      "Geometric objects:\n",
      "     block, center = (0,0,0)\n",
      "          size (1e+20,1.57005,0.458937)\n",
      "          axes (1,0,0), (0,1,0), (0,0,1)\n",
      "     ellipsoid, center = (0,0,0)\n",
      "          size (0.688406,0.966184,1e+20)\n",
      "          axes (1,0,0), (0,1,0), (0,0,1)\n",
      "     block, center = (0,0,-1.11473)\n",
      "          size (1e+20,1e+20,1.77053)\n",
      "          axes (1,0,0), (0,1,0), (0,0,1)\n",
      "Geometric object tree has depth 2 and 27 object nodes (vs. 3 actual objects)\n",
      "Initializing epsilon function...\n",
      "Allocating fields...\n",
      "Solving for band polarization: zevenyodd.\n",
      "Initializing fields to random numbers...\n",
      "1 k-points\n",
      "  Vector3<0.5, 0.0, 0.0>\n",
      "elapsed time for initialization: 0.149566650390625\n",
      "solve_kpoint (0.5,0,0):\n",
      "zevenyoddfreqs:, k index, k1, k2, k3, kmag/2pi, zevenyodd band 1, zevenyodd band 2\n",
      "Solving for bands 1 to 2...\n",
      "Finished solving for bands 1 to 2 after 12 iterations.\n",
      "zevenyoddfreqs:, 1, 0.5, 0, 0, 0.5, 0.256703, 0.353546\n",
      "elapsed time for k point: 1.7837657928466797\n",
      "total elapsed time for run: 1.9334635734558105\n",
      "done\n"
     ]
    },
    {
     "data": {
      "text/plain": [
       "0.12678043021524676"
      ]
     },
     "execution_count": 19,
     "metadata": {},
     "output_type": "execute_result"
    }
   ],
   "source": [
    "get_gamma_from_Thz(get_freq_Thz(hx = 0.285, hy = 0.4, a = 0.414, w = 0.65, h = 0.19, substrate = True, mode = \"zEyO\"), check_freq= 200.0)\n",
    "\n",
    "#get_freq_Thz(hx = 0.285, hy = 0.4, a = 0.434, w = 0.65, h = 0.19, substrate = True, mode = \"zEyO\")"
   ]
  },
  {
   "cell_type": "code",
   "execution_count": 21,
   "metadata": {},
   "outputs": [
    {
     "name": "stdout",
     "output_type": "stream",
     "text": [
      " h = 0.19, SUBSTRATE = True, mode = zEyO\n",
      "Initializing eigensolver data\n",
      "Computing 2 bands with 1e-07 tolerance\n",
      "Working in 3 dimensions.\n",
      "Grid size is 20 x 80 x 80.\n",
      "Solving for 2 bands at a time.\n",
      "Creating Maxwell data...\n",
      "Mesh size is 3.\n",
      "Lattice vectors:\n",
      "     (1, 0, 0)\n",
      "     (0, 4, 0)\n",
      "     (0, 0, 4)\n",
      "Cell volume = 16\n",
      "Reciprocal lattice vectors (/ 2 pi):\n",
      "     (1, -0, 0)\n",
      "     (-0, 0.25, -0)\n",
      "     (0, -0, 0.25)\n",
      "Geometric objects:\n",
      "     block, center = (0,0,0)\n",
      "          size (1e+20,1.57005,0.458937)\n",
      "          axes (1,0,0), (0,1,0), (0,0,1)\n",
      "     ellipsoid, center = (0,0,0)\n",
      "          size (0.591787,0.966184,1e+20)\n",
      "          axes (1,0,0), (0,1,0), (0,0,1)\n",
      "     block, center = (0,0,-1.11473)\n",
      "          size (1e+20,1e+20,1.77053)\n",
      "          axes (1,0,0), (0,1,0), (0,0,1)\n",
      "Geometric object tree has depth 2 and 27 object nodes (vs. 3 actual objects)\n",
      "Initializing epsilon function...\n",
      "Allocating fields...\n",
      "Solving for band polarization: zevenyodd.\n",
      "Initializing fields to random numbers...\n",
      "1 k-points\n",
      "  Vector3<0.5, 0.0, 0.0>\n",
      "elapsed time for initialization: 0.14173197746276855\n",
      "solve_kpoint (0.5,0,0):\n",
      "zevenyoddfreqs:, k index, k1, k2, k3, kmag/2pi, zevenyodd band 1, zevenyodd band 2\n",
      "Solving for bands 1 to 2...\n",
      "Finished solving for bands 1 to 2 after 15 iterations.\n",
      "zevenyoddfreqs:, 1, 0.5, 0, 0, 0.5, 0.248273, 0.335435\n",
      "elapsed time for k point: 2.073789119720459\n",
      "total elapsed time for run: 2.2157604694366455\n",
      "done\n"
     ]
    },
    {
     "data": {
      "text/plain": [
       "array([179.90781188, 243.06906133])"
      ]
     },
     "execution_count": 21,
     "metadata": {},
     "output_type": "execute_result"
    }
   ],
   "source": [
    "(get_freq_Thz(hx = 0.245, hy = 0.4, a = 0.414, w = 0.65, h = 0.19, substrate = True, mode = \"zEyO\"))"
   ]
  },
  {
   "cell_type": "code",
   "execution_count": null,
   "metadata": {},
   "outputs": [],
   "source": [
    "lower_param, upper_param: (0.245, 0.28500000000000003)"
   ]
  }
 ],
 "metadata": {
  "kernelspec": {
   "display_name": "Python 3",
   "language": "python",
   "name": "python3"
  },
  "language_info": {
   "codemirror_mode": {
    "name": "ipython",
    "version": 3
   },
   "file_extension": ".py",
   "mimetype": "text/x-python",
   "name": "python",
   "nbconvert_exporter": "python",
   "pygments_lexer": "ipython3",
   "version": "3.7.8"
  }
 },
 "nbformat": 4,
 "nbformat_minor": 4
}
